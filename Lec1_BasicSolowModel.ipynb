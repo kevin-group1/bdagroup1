{
 "cells": [
  {
   "cell_type": "markdown",
   "metadata": {
    "slideshow": {
     "slide_type": "slide"
    }
   },
   "source": [
    "## ECON 8020 - Macroeconomic Theory I\n",
    "### Prof. Marcelo Arbex\n",
    "\n",
    "## <font color='red'><center>Module I - Basic Solow and Ramsey Models</center><font>\n",
    "    \n",
    "## <font color='red'><center>1 - The Basic Solow Model</center><font>\n",
    "    "
   ]
  },
  {
   "cell_type": "markdown",
   "metadata": {
    "slideshow": {
     "slide_type": "subslide"
    }
   },
   "source": [
    "# 1 - The Basic Solow Model\n",
    "\n",
    "1. The Basic Model\n",
    "\n",
    "\n",
    "2. Technological Growth\n",
    "\n",
    "\n",
    "3. The Golden Rule\n",
    "\n",
    "\n",
    "4. Deterministic vs. Stochastic Models\n",
    "\n",
    "\n",
    "4. A Stochastic Solow Model\n",
    "\n",
    "\n",
    "5. Log-Linear Version of the Solow Model\n"
   ]
  },
  {
   "cell_type": "markdown",
   "metadata": {
    "slideshow": {
     "slide_type": "slide"
    }
   },
   "source": [
    "## Overview\n",
    "\n",
    "Solow (1956, 1970) introduced a model of economic growth\n",
    "- Basis for most growth theory, for Real Business Cycle models and New Keynesian modeling\n",
    "- Several very specific and testable results about growth\n",
    "\n",
    "Kydland and Prescott (1982)\n",
    "- Stochastic version to study business cycles\n",
    "    - Real Business Cycle theory\n",
    "    - New Keynesian models"
   ]
  },
  {
   "cell_type": "markdown",
   "metadata": {
    "slideshow": {
     "slide_type": "subslide"
    }
   },
   "source": [
    "## Overview\n",
    "\n",
    "Solow's model:\n",
    "- CRS production function, law of motion for capital and savings rate\n",
    "- Equilibrium conditions: Investment = Savings\n",
    "\n",
    "From this simple model\n",
    "- First-order difference equation\n",
    "    - Evolution of capital per worker\n",
    "    - Time path of the economy "
   ]
  },
  {
   "cell_type": "markdown",
   "metadata": {
    "slideshow": {
     "slide_type": "slide"
    }
   },
   "source": [
    "\n",
    "## The Basic Model\n",
    "\n",
    "The production function\n",
    "\\begin{eqnarray*}\n",
    "Y_{t} & = & A_{t}F(K_{t},H_{t})\n",
    "\\end{eqnarray*}\n",
    "\n",
    "- $Y_{t}$: output of the single good in the economy at date $t$\n",
    "\n",
    "\n",
    "- $A_{t}$: level of technology\n",
    "    - $A_{t}=(1+\\alpha)^{t}A_{0}$, where $A_{0}$ is the time 0 level of technology and $\\alpha$ is the net rate of growth of technology\n",
    "\n",
    "\n",
    "- $K_{t}$: capital stock\n",
    "\n",
    "\n",
    "- $H_{t}$: quantity of labor used in production\n",
    "\n",
    "\n",
    "> $F(K_{t},H_{t})$: homogeneous of degree one"
   ]
  },
  {
   "cell_type": "markdown",
   "metadata": {
    "slideshow": {
     "slide_type": "subslide"
    }
   },
   "source": [
    "Output per worker: $y_{t}=Y_{t}/H_{t}$.\n",
    "\\begin{eqnarray*}\n",
    "y_{t}=\\frac{Y_{t}}{H_{t}} & = & A_{t}F\\left(\\frac{K_{t}}{H_{t}},\\frac{H_{t}}{H_{t}}\\right)\\\\ \\\\\n",
    " & = & A_{t}F(k_{t},1)\\\\ \\\\\n",
    " & = & A_{t}f(k_{t})\n",
    "\\end{eqnarray*}\n",
    "$k_{t}$: capital per worker\n"
   ]
  },
  {
   "cell_type": "markdown",
   "metadata": {
    "slideshow": {
     "slide_type": "subslide"
    }
   },
   "source": [
    "Labor force grows at a constant net rate $n$\n",
    "\\begin{eqnarray*}\n",
    "H_{t+1} & = & (1+n)H_{t}\n",
    "\\end{eqnarray*}\n",
    "\n",
    "\n",
    "Capital law of motion\n",
    "\\begin{eqnarray*}\n",
    "K_{t+1} & = & (1-\\delta)K_{t}+I_{t}\n",
    "\\end{eqnarray*}\n",
    "\n",
    "\n",
    "- $\\delta$: the depreciation rate\n",
    "- $I_{t}$: investment at time $t$"
   ]
  },
  {
   "cell_type": "markdown",
   "metadata": {
    "slideshow": {
     "slide_type": "subslide"
    }
   },
   "source": [
    "Capital per worker grow according to the rule\n",
    "\\begin{eqnarray*}\n",
    "k_{t+1} & = & \\frac{(1-\\delta)k_{t}+i_{t}}{1+n}\n",
    "\\end{eqnarray*}\n",
    "\n",
    "\n",
    "Savings: fixed fraction $\\sigma$ of output\n",
    "\\begin{eqnarray*}\n",
    "s_{t} & = & \\sigma y_{t}\n",
    "\\end{eqnarray*}\n",
    "\n",
    "\n",
    "Equilibrium in a closed economy: $i_{t}=s_{t}$\n"
   ]
  },
  {
   "cell_type": "markdown",
   "metadata": {
    "slideshow": {
     "slide_type": "subslide"
    }
   },
   "source": [
    "Capital difference equation:\n",
    "\\begin{eqnarray*}\n",
    "(1+n)k_{t+1} & = & (1-\\delta)k_{t}+\\sigma(1+\\alpha)^{t}A_{0}f(k_{t}) \\\\\n",
    "\\end{eqnarray*}\n",
    "\n",
    "\n",
    "Simplest case: technology growth is zero ($\\alpha=0$)\n",
    "\\begin{eqnarray*}\n",
    "(1+n)k_{t+1} & = & (1-\\delta)k_{t}+\\sigma A_{0}f(k_{t}) \\\\\n",
    "\\end{eqnarray*}\n",
    "\n",
    "\n",
    "Stationary state: $k_{t+1}=k_{t}=\\bar{k}$\n",
    "\\begin{eqnarray*}\n",
    "(1+n)\\bar{k} & = & (1-\\delta)\\bar{k}+\\sigma A_{0}f(\\bar{k})\n",
    "\\end{eqnarray*}"
   ]
  },
  {
   "cell_type": "markdown",
   "metadata": {
    "slideshow": {
     "slide_type": "subslide"
    }
   },
   "source": [
    "Stationary state: $k_{t+1}=k_{t}=\\bar{k}$\n",
    "\\begin{eqnarray*}\n",
    "(1+n)\\bar{k} & = & (1-\\delta)\\bar{k}+\\sigma A_{0}f(\\bar{k})\n",
    "\\end{eqnarray*}\n",
    "\n",
    "or when\n",
    "\\begin{eqnarray*}\n",
    "(\\delta+n)\\bar{k} & = & \\sigma A_{0}f(\\bar{k})\n",
    "\\end{eqnarray*}\n",
    "\n",
    "- There is a stationary state at $\\bar{k}=0$ and one for a positive $\\bar{k}$.\n",
    "- All economies with $k_{0}\\neq0$ converge to the positive stationary state."
   ]
  },
  {
   "cell_type": "markdown",
   "metadata": {
    "slideshow": {
     "slide_type": "subslide"
    }
   },
   "source": [
    "Stationary state: $k_{t+1}=k_{t}=\\bar{k}$\n",
    "\\begin{eqnarray*}\n",
    "(1+n)\\bar{k} & = & (1-\\delta)\\bar{k}+\\sigma A_{0}f(\\bar{k})\n",
    "\\end{eqnarray*}\n",
    "\n",
    "or when\n",
    "\\begin{eqnarray*}\n",
    "(\\delta+n)\\bar{k} & = & \\sigma A_{0}f(\\bar{k})\n",
    "\\end{eqnarray*}\n",
    "\n",
    "Stability conditions of the positive stationary state\n",
    "\\begin{eqnarray}\n",
    "k_{t+1} & =g(k_{t})= & \\frac{(1-\\delta)k_{t}+\\sigma A_{0}f(k_{t})}{1+n} \n",
    "\\label{eq:1_1} \\tag{1}\n",
    "\\end{eqnarray}"
   ]
  },
  {
   "cell_type": "markdown",
   "metadata": {
    "slideshow": {
     "slide_type": "subslide"
    }
   },
   "source": [
    "**Important results of the Solow growth model**\n",
    "- If all economies have access to the same technology, poorer ones (those with less initial capital) will grow faster than richer ones (those with more initial capital). \n",
    "\n",
    "Let $\\gamma_{t}=k_{t+1}/k_{t}$ be the gross growth of the capital stock from time $t$ to time $t+1$.\n",
    "\n",
    "\\begin{eqnarray*}\n",
    "\\gamma_{t}=\\frac{k_{t+1}}{k_{t}} & = & \\frac{(1-\\delta)k_{t}+\\sigma A_{0}f(k_{t})}{(1+n)k_{t}}\n",
    "\\end{eqnarray*}"
   ]
  },
  {
   "cell_type": "markdown",
   "metadata": {
    "slideshow": {
     "slide_type": "subslide"
    }
   },
   "source": [
    "\\begin{eqnarray*}\n",
    "\\gamma_{t}=\\frac{k_{t+1}}{k_{t}} & = & \\frac{(1-\\delta)k_{t}+\\sigma A_{0}f(k_{t})}{(1+n)k_{t}}\n",
    "\\end{eqnarray*}\n",
    "\n",
    "Take the derivative of $\\gamma_{t}$ with respect to $k_{t}$ to see how the growth rate depends on the initial capital stock\n",
    "\n",
    "\\begin{eqnarray*}\n",
    "\\frac{d\\gamma_{t}}{dk_{t}} & = & \\frac{\\sigma A_{0}}{(1+n)k_{t}^{2}}\\left[f'(k_{t})k_{t}-f(k_{t})\\right]\n",
    "\\end{eqnarray*}\n",
    "\n",
    "which is negative when $k_{t}>0$.\n",
    "\n",
    "- Growth rate of capital declines as the capital stock increases"
   ]
  },
  {
   "cell_type": "markdown",
   "metadata": {
    "slideshow": {
     "slide_type": "subslide"
    }
   },
   "source": [
    "**Main results of the simplest version of the Solow model**\n",
    "\n",
    "When all countries have access to the same technology and all have\n",
    "the same savings rate\n",
    "\n",
    "- all countries converge to the same levels of capital and output per worker and\n",
    "- poorer countries grow faster than richer ones"
   ]
  },
  {
   "cell_type": "markdown",
   "metadata": {
    "slideshow": {
     "slide_type": "subslide"
    }
   },
   "source": [
    "**Exercise 1.** \n",
    "\n",
    ">Suppose that in every period  an economy needs  to pay 4 percent of its output to the  rest  of the world as interest  payments on past government debt.  The government collects the funds for the transfer  using lump sum taxes. \n",
    "\n",
    "> How is the growth rate of this country different from one that does not need  to make the payments?"
   ]
  },
  {
   "cell_type": "markdown",
   "metadata": {
    "slideshow": {
     "slide_type": "subslide"
    }
   },
   "source": [
    "**Exercise 2.** \n",
    "\n",
    ">What happens to the rental  rate on capital (the  marginal  product of capital)  as an economy grows from some initial per worker capital stock below the positive stationary state?"
   ]
  },
  {
   "cell_type": "markdown",
   "metadata": {
    "slideshow": {
     "slide_type": "slide"
    }
   },
   "source": [
    "## Technological Growth\n",
    "\n",
    "With a constant rate of technological growth, all economies converge toward a **Balanced Growth Path (BGP)**\n",
    "\n",
    "- **BGP**: growth rate of capital and output are constant\n",
    "\n"
   ]
  },
  {
   "cell_type": "markdown",
   "metadata": {
    "slideshow": {
     "slide_type": "subslide"
    }
   },
   "source": [
    "Cobb-Douglas production function $f(k_{t})=k_{t}^{\\theta}$\n",
    "\n",
    "- $\\theta$: fraction of the economy's income that goes to capital.\n",
    "\n",
    "We are looking for an equilibrium where capital grows at some unknown constant rate $\\gamma=k_{t+1}/k_{t}$\n",
    "\n",
    "Normalize initial technological level $A_{0}=1$\n",
    "\\begin{eqnarray*}\n",
    "\\gamma=\\frac{k_{t+1}}{k_{t}} & = & \\frac{(1-\\delta)k_{t}+\\sigma(1+\\alpha)^{t}k_{t}^{\\theta}}{(1+n)k_{t}}\\\\\n",
    " & = & \\frac{(1-\\delta)}{(1+n)}+\\frac{\\sigma(1+\\alpha)^{t}}{(1+n)k_{t}^{1-\\theta}}\n",
    "\\end{eqnarray*}"
   ]
  },
  {
   "cell_type": "markdown",
   "metadata": {
    "slideshow": {
     "slide_type": "subslide"
    }
   },
   "source": [
    "Rearranging....\n",
    "\\begin{eqnarray*}\n",
    "k_{t} & = & \\left[\\frac{\\sigma(1+\\alpha)^{t}}{(1+n)\\gamma-(1-\\delta)}\\right]^{\\frac{1}{1-\\theta}}\\\\\n",
    " & = & (1+\\alpha)^{\\frac{t}{1-\\theta}}\\left[\\frac{\\sigma}{(1+n)\\gamma-(1-\\delta)}\\right]^{\\frac{1}{1-\\theta}}\n",
    "\\end{eqnarray*}\n",
    "\n",
    "\n",
    "Along a balanced growth path, the constant growth rate of capital per worker $\\gamma$ must be equal to \n",
    "\n",
    "\\begin{eqnarray*}\n",
    "\\lambda=\\frac{k_{t+1}}{k_{t}} & = & \\frac{(1+\\alpha)^{\\frac{t+1}{1-\\theta}}\\left[\\frac{\\sigma}{(1+n)\\gamma-(1-\\delta)}\\right]^{\\frac{1}{1-\\theta}}}{(1+\\alpha)^{\\frac{t}{1-\\theta}}\\left[\\frac{\\sigma}{(1+n)\\gamma-(1-\\delta)}\\right]^{\\frac{1}{1-\\theta}}}=(1+\\alpha)^{\\frac{1}{1-\\theta}}\n",
    "\\end{eqnarray*}"
   ]
  },
  {
   "cell_type": "markdown",
   "metadata": {
    "slideshow": {
     "slide_type": "subslide"
    }
   },
   "source": [
    "And along this path, output per worker (also) grows by\n",
    "\\begin{eqnarray*}\n",
    "\\frac{y_{t+1}}{y_{t}} & = & (1+\\alpha)^{\\frac{1}{1-\\theta}}=\\lambda\n",
    "\\end{eqnarray*}\n",
    "\n",
    "\n",
    "> **Exercise.** Show this!"
   ]
  },
  {
   "cell_type": "markdown",
   "metadata": {
    "slideshow": {
     "slide_type": "slide"
    }
   },
   "source": [
    "## The Golden Rule\n",
    "\n",
    "Welfare: function of only consumption \n",
    "- Maximize welfare in a stationary state - maximize the steady state level of consumption\n",
    "\n",
    "The savings rate that maximizes consumption: \n",
    "- The **golden rule** saving rate"
   ]
  },
  {
   "cell_type": "markdown",
   "metadata": {
    "slideshow": {
     "slide_type": "subslide"
    }
   },
   "source": [
    "Since production can be either saved (invested) or consumed, the per worker consumption is\n",
    "\n",
    "\\begin{eqnarray*}\n",
    "c_{t} & =(1-\\sigma)y_{t} & =(1-\\sigma)A_{0}f(\\bar{k})\n",
    "\\end{eqnarray*}\n",
    "\n",
    "\n",
    "For an economy without technological growth, the condition for a stationary state is\n",
    "\n",
    "\\begin{eqnarray*}\n",
    "(\\delta+n)\\bar{k} & = & \\sigma A_{0}f(\\bar{k)}\n",
    "\\end{eqnarray*}\n",
    "\n",
    "\n",
    "Substituting the condition for the stationary state into the consumption equation\n",
    "\n",
    "\\begin{eqnarray*}\n",
    "\\bar{c} & = & A_{0}f(\\bar{k})-(\\delta+n)\\bar{k}\n",
    "\\end{eqnarray*}\n",
    "\n",
    "\n",
    "First-order conditions for maximizing consumption give\n",
    "\\begin{eqnarray*}\n",
    "A_{0}f'(\\bar{k)} & = & (\\delta+n)\n",
    "\\end{eqnarray*}"
   ]
  },
  {
   "cell_type": "markdown",
   "metadata": {
    "slideshow": {
     "slide_type": "subslide"
    }
   },
   "source": [
    "Put the value of $\\bar{k}^{*}$ that solves the equation above in\n",
    "\\begin{eqnarray*}\n",
    "(\\delta+n)\\bar{k}^{*} & = & \\sigma A_{0}f\\left(\\bar{k}^{*}\\right)\n",
    "\\end{eqnarray*}\n",
    "\n",
    "\n",
    "and solve for the savings rate $\\sigma$. The **golden rule** value of $\\sigma$ is\n",
    "\\begin{eqnarray*}\n",
    "\\sigma & = & \\frac{(\\delta+n)\\bar{k}^{*}}{A_{0}f\\left(\\bar{k}^{*}\\right)}\n",
    "\\end{eqnarray*}"
   ]
  },
  {
   "cell_type": "markdown",
   "metadata": {
    "slideshow": {
     "slide_type": "subslide"
    }
   },
   "source": [
    "> **Exercise.** Assume Cobb-Douglas production function $f(k_{t})=k_{t}^{\\theta}$. \n",
    "> - Show that $\\sigma=\\theta.$ \n",
    "> - Briefly discuss the intuition. \n"
   ]
  },
  {
   "cell_type": "markdown",
   "metadata": {
    "slideshow": {
     "slide_type": "slide"
    }
   },
   "source": [
    "## Deterministic vs. Stochastic Models\n",
    "\n",
    "An important question: \n",
    "> Is your model stochastic or deterministic?\n",
    "> - The distinction hinges on whether future shocks are known.\n",
    "\n",
    "**Deterministic models**: the occurrence of all future shocks is known exactly at the time of computing the models solution.\n",
    "\n",
    "\n",
    "**Stochastic models**: only the distribution of future shocks is known.\n"
   ]
  },
  {
   "cell_type": "markdown",
   "metadata": {
    "slideshow": {
     "slide_type": "subslide"
    }
   },
   "source": [
    "Consider a shock to a models innovation only in period 1.\n",
    "\n",
    "**In a deterministic context**\n",
    "- Agents will take their decisions knowing that future values of the innovations will be zero in all periods to come. \n",
    "\n",
    "**In a stochastic context**\n",
    "- Agents will take their decisions knowing that the future value of innovations are random but will have zero mean. \n",
    "\n",
    "The solution method for each of these model types differs significantly.\n"
   ]
  },
  {
   "cell_type": "markdown",
   "metadata": {
    "slideshow": {
     "slide_type": "subslide"
    }
   },
   "source": [
    "The solution method for each of these model types differs significantly.\n",
    "\n",
    "**In deterministic models**\n",
    "- A highly accurate solution can be found by numerical methods.\n",
    "- Solution: a series of numbers that match a given set of equations. \n",
    "\n",
    "If an agent has perfect foresight\n",
    "- Agent can specify today - at the time of her decision - what each of her precise actions will be in the future.\n",
    "\n",
    "**Stochastic environment**\n",
    "- The best the agent can do is specify a decision, policy or feedback rule for the future: \n",
    "    - What will her optimal actions be contingent on each possible realization of shocks.\n",
    "- We search for a function satisfying the models first order conditions.\n",
    "    - This function may be non-linear and thus needs to be approximated."
   ]
  },
  {
   "cell_type": "markdown",
   "metadata": {
    "slideshow": {
     "slide_type": "subslide"
    }
   },
   "source": [
    "**Stochastic environment**\n",
    "\n",
    "- These types of models tend to be more popular in the literature.\n",
    "     - Examples include most RBC, or new Keynesian monetary models. \n",
    "     \n",
    "- In these models, shocks hit today (with a surprise), but thereafter their expected value is zero.\n",
    "     - Expected future shocks, or permanent changes in the exogenous variables cannot be handled due to the use of Taylor approximations around a steady state. \n",
    "\n",
    "- When these models are linearized to the first order, agents behave as if future shocks where equal to zero (since their expectation is null), which is the certainty equivalence property.\n",
    "    - This is an often overlooked point in the literature which misleads readers in supposing their models may be deterministic.\n"
   ]
  },
  {
   "cell_type": "markdown",
   "metadata": {
    "slideshow": {
     "slide_type": "slide"
    }
   },
   "source": [
    "## A Stochastic Solow Model\n",
    "\n",
    "Adding a stochastic shock to the standard Solow model\n",
    "- a technology shock and a shock to the savings rate are essentially identical - they affect the evolution of output\n",
    "- other variables: discount factor; growth rate of population\n",
    "\n",
    "Assume technology is stochastic\n",
    "- Effects of stochastic technology growth: \n",
    "     - Basis for RBC theory\n",
    "\n",
    "Several ways of defining the stochastic process for technology."
   ]
  },
  {
   "cell_type": "markdown",
   "metadata": {
    "slideshow": {
     "slide_type": "subslide"
    }
   },
   "source": [
    "Several ways of defining the stochastic process for technology.\n",
    "\n",
    "First-order moving average\n",
    "\\begin{eqnarray*}\n",
    "A_{t} & = & \\psi\\bar{A}+(1-\\psi)A_{t-1}+\\varepsilon_{t}\n",
    "\\end{eqnarray*}\n",
    "\n",
    "where $\\psi\\in(0,1)$ and $\\bar{A}\\geq0$. \n",
    "\n",
    "Probability distribution of $\\varepsilon_{t}$ bounded from below by $-\\psi\\bar{{A}}$"
   ]
  },
  {
   "cell_type": "markdown",
   "metadata": {
    "slideshow": {
     "slide_type": "subslide"
    }
   },
   "source": [
    "Alternative process\n",
    "\\begin{eqnarray*}\n",
    "A_{t} & = & \\bar{A}e^{\\varepsilon_{t}}\n",
    "\\end{eqnarray*}\n",
    "\n",
    "$\\varepsilon_{t}$: normal distribution, mean $0$\n",
    "- $A_{t}$: log normal distribution of the form\n",
    "\\begin{eqnarray*}\n",
    "\\ln A_{t} & = & \\ln\\bar{A}+\\varepsilon_{t}\n",
    "\\end{eqnarray*}\n",
    "\n"
   ]
  },
  {
   "cell_type": "markdown",
   "metadata": {
    "slideshow": {
     "slide_type": "subslide"
    }
   },
   "source": [
    "The first-order difference equation that describes the time path of the economy in the model is mechanical, in the sense that the savings rate is a constant, and equation (1)\n",
    "\n",
    "\\begin{eqnarray}\n",
    "k_{t+1} & =g(k_{t})= & \\frac{(1-\\delta)k_{t}+\\sigma A_{0}f(k_{t})}{1+n} \n",
    "\\label{eq:1_1} \\tag{1}\n",
    "\\end{eqnarray}\n",
    "\n",
    "is written simply as\n",
    "\\begin{eqnarray}\n",
    "k_{t+1} & = & \\frac{(1-\\delta)k_{t}+\\sigma\\bar{A}e^{\\varepsilon_{t}}f(k_{t})}{1+n}\\label{eq:1_2} \\tag{2}\n",
    "\\end{eqnarray}"
   ]
  },
  {
   "cell_type": "markdown",
   "metadata": {
    "slideshow": {
     "slide_type": "subslide"
    }
   },
   "source": [
    "Divide both sides of this equation by $k_{t}$ to get the growth rate $\\gamma_{t}=k_{t+1}/k_{t},$ on the LHS, rearrange and then take logarithms.\n",
    "\n",
    "\\begin{eqnarray}\n",
    "\\ln\\left[\\gamma_{t}-\\frac{1-\\delta}{1+n}\\right] & = & \\ln\\frac{\\sigma\\bar{A}}{1+n}+\\ln\\frac{f(k_{t})}{k_{t}}+\\varepsilon_{t}\\label{eq:1_3} \\tag{3}\n",
    "\\end{eqnarray}\n",
    "\n",
    "\n",
    "Assume a Cobb-Douglas production function, the per worker production function is $f(k_t) = k^\\theta_t$, and equation (3) becomes\n",
    "\n",
    "\\begin{eqnarray*}\n",
    "\\ln\\left[\\gamma_{t}-\\frac{1-\\delta}{1+n}\\right] & = & \\varphi-(1-\\theta)\\ln k_{t}+\\varepsilon_{t}\n",
    "\\end{eqnarray*}\n",
    "where $\\varphi\\equiv\\ln[\\sigma\\bar{A}/(1+n)]$.\n",
    "\n",
    "- Gross growth rate of per worker capital: nonlinear function of the current per worker capital stock and of the shocks.\n",
    "- Variance of the growth rate of per worker capital depends on the initial level of per worker capital as well as the variance of the shocks."
   ]
  },
  {
   "cell_type": "markdown",
   "metadata": {
    "slideshow": {
     "slide_type": "slide"
    }
   },
   "source": [
    "## Log-Linear Version of the Solow Model\n",
    "\n",
    "Given that the model is nonlinear, a simple expression for the variance of per worker capital in terms of the shocks is not easy to find or even to define in general.\n",
    "\n",
    "Possible to find a linear approximation of the model around a SS\n",
    "- Study 2nd-order characteristics of the model\n",
    "     - e.g., size of the technology shock that is required so that the variance of output is similar to that of real economies around their long-term trend \n",
    "\n",
    "\n",
    "- This part is important for understanding the process of producing a log-linear version of a model\n"
   ]
  },
  {
   "cell_type": "markdown",
   "metadata": {
    "slideshow": {
     "slide_type": "subslide"
    }
   },
   "source": [
    "Define a log differences of a variable $\\tilde{X_{t}}$ as\n",
    "\\begin{eqnarray*}\n",
    "\\tilde{X} & = & \\ln X_{t}-\\ln\\bar{X}\n",
    "\\end{eqnarray*}\n",
    "\n",
    "- $X_{t}$ is the time t value of the variable \n",
    "- $\\bar{X}$ is its value in the stationary state\n",
    "\n",
    "This definition of the log differences allows us to write\n",
    "\\begin{eqnarray*}\n",
    "X_{t} & = & \\bar{X}e^{\\tilde{X_{t}}}\n",
    "\\end{eqnarray*}"
   ]
  },
  {
   "cell_type": "markdown",
   "metadata": {
    "slideshow": {
     "slide_type": "subslide"
    }
   },
   "source": [
    "Rules for first-order approximations (small values of $\\tilde{X_{t}}$ and $\\tilde{Y_{t}}$)\n",
    "\n",
    "\n",
    "\\begin{eqnarray*}\n",
    "e^{\\tilde{X_{t}}} & \\approx & 1+\\tilde{X_{t}}\\\\\n",
    "e^{\\tilde{X_{t}}+a\\tilde{Y_{t}}} & \\approx & 1+\\tilde{X_{t}}+a\\tilde{Y_{t}}\\\\\n",
    "\\tilde{X_{t}}\\tilde{Y_{t}} & \\approx & 0\\\\\n",
    "E_{t}\\left[ae^{\\tilde{X}_{t+1}}\\right] & \\approx & E_{t}\\left[a\\tilde{X}_{t+1}\\right]+constant\n",
    "\\end{eqnarray*}\n",
    "\n"
   ]
  },
  {
   "cell_type": "markdown",
   "metadata": {
    "slideshow": {
     "slide_type": "subslide"
    }
   },
   "source": [
    "Stochastic, Cobb-Douglas, zero technology growth version of the first-order difference equation\n",
    "\n",
    "\\begin{eqnarray*}\n",
    "(1+n)k_{t+1} & = & (1-\\delta)k_{t}+\\sigma\\bar{A}e^{\\varepsilon_{t}}k_{t}^{\\theta}\n",
    "\\end{eqnarray*}\n",
    "\n",
    "\n",
    "replace $k_{j}$ by $\\bar{k}e^{\\tilde{k_{j}}},$ where $\\tilde{k}=\\ln k_{j}-\\ln\\bar{k}$.\n",
    "\\begin{eqnarray*}\n",
    "(1+n)\\bar{k}e^{\\tilde{k}_{t+1}} & = & (1-\\delta)\\bar{k}e^{\\tilde{k_{t}}}+\\sigma\\bar{A}e^{\\varepsilon_{t}}\\bar{k}^{\\theta}e^{\\theta\\tilde{k_{t}}}\n",
    "\\end{eqnarray*}\n",
    "\n",
    "which becomes (rule approximation)\n",
    "\\begin{eqnarray*}\n",
    "(1+n)\\bar{k}(1+\\tilde{k}_{t+1}) & = & (1-\\delta)\\bar{k}(1+\\tilde{k_{t}})+\\sigma\\bar{A}(1+\\varepsilon_{t})\\bar{k}^{\\theta}(1+\\theta\\tilde{k_{t}})\n",
    "\\end{eqnarray*}\n"
   ]
  },
  {
   "cell_type": "markdown",
   "metadata": {
    "slideshow": {
     "slide_type": "subslide"
    }
   },
   "source": [
    "The first-order difference equation (approximation)\n",
    "\n",
    "\\begin{eqnarray*}\n",
    "(1+n)\\bar{k}(1+\\tilde{k}_{t+1}) & = & (1-\\delta)\\bar{k}(1+\\tilde{k_{t}})+\\sigma\\bar{A}(1+\\varepsilon_{t})\\bar{k}^{\\theta}(1+\\theta\\tilde{k_{t}})\n",
    "\\end{eqnarray*}\n",
    "\n",
    "In the nonstochastic stationary state\n",
    "\\begin{eqnarray*}\n",
    "(1+n)\\bar{k} & = & (1-\\delta)\\bar{k}+\\sigma\\bar{A}\\bar{k}^{\\theta}\n",
    "\\end{eqnarray*}\n",
    "\n",
    "\n",
    "Removing the nonstochastic stationary state terms from the approximation above gives\n",
    "\n",
    "\\begin{eqnarray*}\n",
    "(1+n)\\bar{k}\\tilde{k}_{t+1} & = & (1-\\delta)\\bar{k}\\tilde{k_{t}}+\\sigma\\bar{A}\\varepsilon_{t}\\bar{k}^{\\theta}+\\sigma\\bar{A}\\bar{k}^{\\theta}\\theta\\tilde{k_{t}}++\\sigma\\bar{A}\\bar{k}^{\\theta}\\theta\\varepsilon_{t}\\tilde{k_{t}}\n",
    "\\end{eqnarray*}"
   ]
  },
  {
   "cell_type": "markdown",
   "metadata": {
    "slideshow": {
     "slide_type": "subslide"
    }
   },
   "source": [
    "\\begin{eqnarray*}\n",
    "(1+n)\\bar{k}\\tilde{k}_{t+1} & = & (1-\\delta)\\bar{k}\\tilde{k_{t}}+\\sigma\\bar{A}\\varepsilon_{t}\\bar{k}^{\\theta}+\\sigma\\bar{A}\\bar{k}^{\\theta}\\theta\\tilde{k_{t}}+\\sigma\\bar{A}\\bar{k}^{\\theta}\\theta\\varepsilon_{t}\\tilde{k_{t}}\n",
    "\\end{eqnarray*}\n",
    "\n",
    "Since $\\varepsilon_{t}\\tilde{k_{t}}\\approx0$, this becomes\n",
    "\\begin{eqnarray*}\n",
    "(1+n)\\bar{k}\\tilde{k}_{t+1} & = & (1-\\delta)\\bar{k}\\tilde{k_{t}}+\\sigma\\bar{A}\\varepsilon_{t}\\bar{k}^{\\theta}+\\sigma\\bar{A}\\bar{k}^{\\theta}\\theta\\tilde{k_{t}}\n",
    "\\end{eqnarray*}\n",
    "\n",
    "Combining terms, we arrive at the first-order difference equation\n",
    "\n",
    "\\begin{eqnarray}\n",
    "\\tilde{k}_{t+1} & = & B\\tilde{k_{t}}+C\\varepsilon_{t}\\label{eq:1.4}\n",
    "\\end{eqnarray}"
   ]
  },
  {
   "cell_type": "markdown",
   "metadata": {
    "slideshow": {
     "slide_type": "subslide"
    }
   },
   "source": [
    "Combining terms, we arrive at the first-order difference equation\n",
    "\n",
    "\\begin{eqnarray}\n",
    "\\tilde{k}_{t+1} & = & B\\tilde{k_{t}}+C\\varepsilon_{t}\\label{eq:1_4} \\tag{4}\n",
    "\\end{eqnarray}\n",
    "\n",
    "where\n",
    "\n",
    "\\begin{eqnarray*}\n",
    "B & = & \\frac{1-\\delta}{1+n}+\\frac{\\theta\\sigma\\bar{A}\\bar{k}^{\\theta-1}}{1+n}=\\frac{1-\\delta}{1+n}+\\frac{\\theta(\\delta+n)}{1+n}\\\\\n",
    " & = & \\frac{1+\\theta n-\\delta(1-\\theta)}{1+n}<1\\\\\n",
    "C & = & \\frac{\\sigma\\bar{A}\\bar{k}^{\\theta-1}}{1+n}=\\frac{\\delta+n}{1+n}\n",
    "\\end{eqnarray*}\n",
    "\n"
   ]
  },
  {
   "cell_type": "markdown",
   "metadata": {
    "slideshow": {
     "slide_type": "subslide"
    }
   },
   "source": [
    "Recursively substituting $\\tilde{k}_{t-j}$ for $j=0,...,\\infty$ in equation (4) results in the approximation\n",
    "\n",
    "\\begin{eqnarray}\n",
    "\\tilde{k}_{t+1} & = & C\\sum_{i=0}^{\\infty}B^{i}\\varepsilon_{t-i}\\label{eq:1.5} \\tag{5}\n",
    "\\end{eqnarray}"
   ]
  },
  {
   "cell_type": "markdown",
   "metadata": {
    "slideshow": {
     "slide_type": "subslide"
    }
   },
   "source": [
    "#### Variance of technology shock relative to variance of capital\n",
    "\n",
    "We can use expression (5) to calculate the variance of capital around its stationary state $\\tilde{k}_{t+1}$ as\n",
    "\n",
    "\\begin{eqnarray*}\n",
    "var\\left(\\tilde{k}_{t+1}\\right) & = & E\\left[\\tilde{k}_{t+1}\\tilde{k}_{t+1}\\right]\\\\\n",
    " & = & E\\left[\\left(C\\sum_{i=0}^{\\infty}B^{i}\\varepsilon_{t-i}\\right)\\left(C\\sum_{i=0}^{\\infty}B^{i}\\varepsilon_{t-i}\\right)\\right]\n",
    "\\end{eqnarray*}"
   ]
  },
  {
   "cell_type": "markdown",
   "metadata": {
    "slideshow": {
     "slide_type": "subslide"
    }
   },
   "source": [
    "If the technology shocks are independent, i.e. $E\\left[\\varepsilon_{t}\\varepsilon_{s}\\right]=0$ if $t\\neq s$, we have\n",
    "\n",
    "\\begin{eqnarray*}\n",
    "var\\left(\\tilde{k}\\right) & = & C^{2}\\sum_{i=0}^{\\infty}B^{2i}var(\\varepsilon)=\\frac{C^{2}}{1-B^{2}}var(\\varepsilon)\n",
    "\\end{eqnarray*}\n",
    " where\n",
    "\\begin{eqnarray*}\n",
    "\\frac{C^{2}}{1-B^{2}}var(\\varepsilon) & = & \\frac{(\\delta+n)^{2}}{(1+n)^{2}-\\left[1+\\theta n-\\delta(1-\\theta)\\right]^{2}}\n",
    "\\end{eqnarray*}\n",
    "\n",
    "Assuming that $\\delta=0.1,$ $\\sigma=0.2,$ $n=0.02$ and $\\theta=0.36$\n",
    "- variance of capital around its stationary state is $0.0955$ times the variance of the shock to technology.\n"
   ]
  },
  {
   "cell_type": "markdown",
   "metadata": {
    "slideshow": {
     "slide_type": "subslide"
    }
   },
   "source": [
    "\\begin{eqnarray*}\n",
    "\\frac{C^{2}}{1-B^{2}}var(\\varepsilon) & = & \\frac{(\\delta+n)^{2}}{(1+n)^{2}-\\left[1+\\theta n-\\delta(1-\\theta)\\right]^{2}}\n",
    "\\end{eqnarray*}\n",
    "\n",
    "\n",
    "Assuming that $\\delta=0.1,$ $\\sigma=0.2,$ $n=0.02$ and $\\theta=0.36$\n",
    "- variance of capital around its stationary state is $0.0955$ times the variance of the shock to technology.\n"
   ]
  },
  {
   "cell_type": "markdown",
   "metadata": {
    "slideshow": {
     "slide_type": "subslide"
    }
   },
   "source": [
    "#### Variance of technology shock relative to variance of output. \n",
    "\n",
    "Log-linear version of the production function (found from)\n",
    "\\begin{eqnarray*}\n",
    "y_{t} & = & \\bar{A}e^{\\varepsilon_{t}}k_{t}^{\\theta}\n",
    "\\end{eqnarray*}\n",
    "\n",
    "Replace the variables with shocks around stationary states to get\n",
    "\\begin{eqnarray*}\n",
    "\\bar{y}e^{\\tilde{y_{t}}} & = & \\bar{A}e^{\\varepsilon_{t}}\\bar{k}^{\\theta}e^{\\theta\\tilde{k_{t}}}\n",
    "\\end{eqnarray*}\n",
    "which is approximated by\n",
    "\\begin{eqnarray*}\n",
    "\\bar{y}\\left(1+\\tilde{y_{t}}\\right) & = & \\bar{A}\\left(1+\\varepsilon_{t}\\right)\\bar{k}^{\\theta}\\left(1+\\theta\\tilde{k_{t}}\\right)\n",
    "\\end{eqnarray*}\n",
    "\n"
   ]
  },
  {
   "cell_type": "markdown",
   "metadata": {
    "slideshow": {
     "slide_type": "subslide"
    }
   },
   "source": [
    "\\begin{eqnarray*}\n",
    "\\bar{y}\\left(1+\\tilde{y_{t}}\\right) & = & \\bar{A}\\left(1+\\varepsilon_{t}\\right)\\bar{k}^{\\theta}\\left(1+\\theta\\tilde{k_{t}}\\right)\n",
    "\\end{eqnarray*}\n",
    "\n",
    "Remove the stationary state value of output to get\n",
    "\\begin{eqnarray*}\n",
    "\\bar{y}\\tilde{y_{t}} & = & \\bar{A}\\bar{k}^{\\theta}\\varepsilon_{t}+\\bar{A}\\bar{k}^{\\theta}\\theta\\tilde{k_{t}}+\\bar{A}\\bar{k}^{\\theta}\\varepsilon_{t}\\theta\\tilde{k_{t}}\n",
    "\\end{eqnarray*}\n",
    "\n",
    "Since $\\varepsilon_{t}\\tilde{k_{t}}\\approx0$ and $\\bar{y}=\\bar{A}\\bar{k}^{\\theta},$\n",
    "this expression becomes\n",
    "\\begin{eqnarray*}\n",
    "\\tilde{y_{t}} & = & \\varepsilon_{t}+\\theta\\tilde{k_{t}}\n",
    "\\end{eqnarray*}\n"
   ]
  },
  {
   "cell_type": "markdown",
   "metadata": {
    "slideshow": {
     "slide_type": "subslide"
    }
   },
   "source": [
    "To find the approximate variance of $\\tilde{y_{t}}$ we use the fact that $\\tilde{k_{t}}$ is independent of $\\varepsilon_{t}$ (see equation 5) and calculate\n",
    "\n",
    "\\begin{eqnarray*}\n",
    "var(\\tilde{y_{t}}) & = & E\\left[\\tilde{y_{t}}\\tilde{y_{t}}\\right]\\\\\n",
    " & = & E\\left[\\left(\\varepsilon_{t}+\\theta\\tilde{k_{t}}\\right)\\left(\\varepsilon_{t}+\\theta\\tilde{k_{t}}\\right)\\right]\\\\\n",
    " & = & var(\\varepsilon_{t})+\\theta^{2}var(\\tilde{k_{t}})\n",
    "\\end{eqnarray*}\n",
    "\n",
    "For the same parameter values, we find $var(\\tilde{y_{t}})=1.0123var(\\varepsilon_{t})$.\n",
    "- This means that for the Solow model, the variance in output is almost exactly equal to the variance in the technology shock. \n"
   ]
  },
  {
   "cell_type": "markdown",
   "metadata": {
    "slideshow": {
     "slide_type": "subslide"
    }
   },
   "source": [
    "For the same parameter values, we find $var(\\tilde{y_{t}})=1.0123var(\\varepsilon_{t})$. \n",
    "- This means that for the Solow model, the variance in output is almost exactly equal to the variance in the technology shock. \n",
    "\n",
    "In the model, the shocks show very little persistence. \n",
    "- With our parameter values, a technology shock in period $t$ accounts for only $1.23$ percent of the variance in output in period $t+1$. \n",
    "- The Solow model does not do a good job of explaining either the variance\n",
    "in output or the persistence of output shocks.\n"
   ]
  },
  {
   "cell_type": "markdown",
   "metadata": {
    "slideshow": {
     "slide_type": "slide"
    }
   },
   "source": [
    "## Summing up\n",
    "\n",
    "The growth  model presented in this chapter  is not an optimizing model\n",
    "- the quantity  of savings is fixed and  is not  determined by a decision  of the consumers or the firms.\n",
    "\n",
    "Nonetheless, a number of rich characteristics can come from  the  model: issues of stability, importance of capital, and  the possibility of producing time series that have some of the properties of those observed for real economies. \n",
    "\n",
    "Solow models fail in some important ways. \n",
    "\n",
    "- One  of their predictions is that,  in general, poor  countries should  grow faster  than  rich ones. This prediction is not very well supported by the data  (see Parente and Prescott (1993), for example).\n",
    "\n",
    "- The log linearization of the model that we did in this notebook is not really necessary for generating stochastic time series, but it gives u.s an early example of the techniques that we will be using later in this course.\n",
    "\n",
    "\n",
    "There is an  enormous literature on  the Solow growth  model. \n",
    "- For  those interested in pursuing this theme,  a good  standard reference is Barro and Sala-i-Martin (2003).\n"
   ]
  },
  {
   "cell_type": "markdown",
   "metadata": {
    "slideshow": {
     "slide_type": "slide"
    }
   },
   "source": [
    "## <font color='red'><center>The Basic Solow Model: Selected Materials</center><font>\n",
    "\n",
    "Adda, Jerome & Russell W. Cooper, 2003. \"Dynamic Economics: Quantitative Methods and Applications,\" MIT Press Books, The MIT Press.\n",
    "    \n",
    "Barro, Robert, and Xavier Sala-i-Martin (2003) Growth Theory, 2nd edition, MIT Press, Cambridge, Mass.\n",
    "    \n",
    "Heer, Burkhard & Alfred Maussner, 2009. Dynamic General Equilibrium Modelling - Computational Methods and Applications,\" Second Edition. Springer-Verlag Berlin Heidelberg.\n",
    "\n",
    "Kydland, Finn, and Edward C. Prescott (1982) \"Time to build and Aggregate Fluctuations\", Econometrica, 50, pp. 1345-1371. \n",
    "\n",
    "Ljungqvist, Lars & Thomas Sargent, 2000. \"Recursive Macroeconomic Theory,\" First Edition. MIT Press Books, The MIT Press.\n",
    "    \n",
    "McCandless, G. (2008). The ABCs of RBCs: An Introduction to Dynamic Macroeconomic Models. Cambridge, Massachusetts; London, England: Harvard University Press.   \n",
    "\n",
    "Parente, Stephen L., and Edward C. Prescott  (1993) \"Changes in the Wealth of Nations,\" Quarterly Review, Federal  Reserve Bank of Minneapolis, Spring, pp. 3-16.\n",
    "\n",
    "Solow, Robert M. (1956) \"A Contribution to the Theory of Economic Growth\", Quarterly Journal of Economics,\n",
    "70, pp. 65-94. \n",
    "\n",
    "Solow, Robert M. (1970) \"Growth Theory: an Exposition\", Oxford University Press, New York.\n",
    "    "
   ]
  }
 ],
 "metadata": {
  "celltoolbar": "Slideshow",
  "date": 1595224860.3832653,
  "filename": "cake_eating_problem.rst",
  "kernelspec": {
   "display_name": "Python 3 (ipykernel)",
   "language": "python",
   "name": "python3"
  },
  "language_info": {
   "codemirror_mode": {
    "name": "ipython",
    "version": 3
   },
   "file_extension": ".py",
   "mimetype": "text/x-python",
   "name": "python",
   "nbconvert_exporter": "python",
   "pygments_lexer": "ipython3",
   "version": "3.9.7"
  },
  "rise": {
   "enable_chalkboard": true
  },
  "title": "Cake Eating II: Numerical Methods"
 },
 "nbformat": 4,
 "nbformat_minor": 2
}
