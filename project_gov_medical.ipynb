{
 "cells": [
  {
   "cell_type": "markdown",
   "id": "64c5db13",
   "metadata": {},
   "source": [
    "# 1. Import python packages"
   ]
  },
  {
   "cell_type": "code",
   "execution_count": 1,
   "id": "84830a6d",
   "metadata": {},
   "outputs": [],
   "source": [
    "import pandas as pd\n",
    "import numpy as np\n",
    "import os\n",
    "file_path=r'D:/project_gov_medical/'"
   ]
  },
  {
   "cell_type": "markdown",
   "id": "f7cf3700",
   "metadata": {},
   "source": [
    "# 2. Create Database"
   ]
  },
  {
   "cell_type": "code",
   "execution_count": 2,
   "id": "4c9f9fd6",
   "metadata": {},
   "outputs": [],
   "source": [
    "import pyodbc\n",
    "server = 'localhost\\SQLEXPRESS' \n",
    "username = 'sa' \n",
    "password = 'user1' \n",
    "cnxn = pyodbc.connect('DRIVER={SQL Server};SERVER='+server+';UID='+username+';PWD='+ password,autocommit=True)\n",
    "cursor = cnxn.cursor()\n",
    "\n",
    "sql1='''\n",
    "USE master;\n",
    "\n",
    "ALTER DATABASE projectdatahub SET SINGLE_USER WITH ROLLBACK IMMEDIATE;\n",
    "DROP DATABASE IF EXISTS projectdatahub\n",
    "create database projectdatahub\n",
    "\n",
    "\n",
    "'''\n",
    "\n",
    "\n",
    "cursor.execute(sql1)\n",
    "cnxn.commit()\n",
    "\n",
    "cursor.close()"
   ]
  },
  {
   "cell_type": "markdown",
   "id": "60e1ad22",
   "metadata": {},
   "source": [
    "# 3. Establish connection to database"
   ]
  },
  {
   "cell_type": "code",
   "execution_count": 3,
   "id": "27f3c951",
   "metadata": {},
   "outputs": [],
   "source": [
    "import pyodbc\n",
    "import urllib\n",
    "import sqlalchemy\n",
    "\n",
    "\n",
    "\n",
    "params_datahub = urllib.parse.quote_plus(\"DRIVER={SQL Server Native Client 11.0};\"\n",
    "                                 \"SERVER=localhost\\SQLEXPRESS;\"\n",
    "                                 \"DATABASE=projectdatahub;\"\n",
    "                                 \"UID=sa;\"\n",
    "                                 \"PWD=user1\")\n",
    "\n",
    "engine_datahub = sqlalchemy.create_engine(\"mssql+pyodbc:///?odbc_connect={}\".format(params_datahub))"
   ]
  },
  {
   "cell_type": "markdown",
   "id": "d6e33b4b",
   "metadata": {},
   "source": [
    "# 4. Date Prepartion and ETL Data to datahub"
   ]
  },
  {
   "cell_type": "code",
   "execution_count": 5,
   "id": "761fdf09",
   "metadata": {},
   "outputs": [
    {
     "name": "stdout",
     "output_type": "stream",
     "text": [
      "<class 'pandas.core.frame.DataFrame'>\n",
      "RangeIndex: 98311 entries, 0 to 98310\n",
      "Data columns (total 9 columns):\n",
      " #   Column                   Non-Null Count  Dtype  \n",
      "---  ------                   --------------  -----  \n",
      " 0   Case Count               98230 non-null  float64\n",
      " 1   Gender                   98230 non-null  object \n",
      " 2   Age Decade               98229 non-null  object \n",
      " 3   Municipality             98230 non-null  object \n",
      " 4   Community                98230 non-null  object \n",
      " 5   Date Reported            98230 non-null  object \n",
      " 6   Estimated Date of Onset  98230 non-null  object \n",
      " 7   Acquisition              98230 non-null  object \n",
      " 8   Status                   98230 non-null  object \n",
      "dtypes: float64(1), object(8)\n",
      "memory usage: 6.8+ MB\n"
     ]
    }
   ],
   "source": [
    "df = pd.read_csv(file_path + 'YR_Data.csv')\n",
    "df.info()"
   ]
  },
  {
   "cell_type": "code",
   "execution_count": 6,
   "id": "ce387f4d",
   "metadata": {},
   "outputs": [],
   "source": [
    "'''Change datatype'''\n",
    "df['Case Count']=df['Case Count'].fillna(0).astype(np.int64)\n",
    "df['Date Reported']=pd.to_datetime(df['Date Reported'].str.strip(), format='%m/%d/%Y')\n",
    "df['Estimated Date of Onset'] = pd.to_datetime(df['Estimated Date of Onset'].str.strip(),format='%m/%d/%Y')"
   ]
  },
  {
   "cell_type": "code",
   "execution_count": 7,
   "id": "6fc8aefb",
   "metadata": {},
   "outputs": [
    {
     "name": "stdout",
     "output_type": "stream",
     "text": [
      "<class 'pandas.core.frame.DataFrame'>\n",
      "RangeIndex: 98311 entries, 0 to 98310\n",
      "Data columns (total 9 columns):\n",
      " #   Column                   Non-Null Count  Dtype         \n",
      "---  ------                   --------------  -----         \n",
      " 0   Case Count               98311 non-null  int64         \n",
      " 1   Gender                   98230 non-null  object        \n",
      " 2   Age Decade               98229 non-null  object        \n",
      " 3   Municipality             98230 non-null  object        \n",
      " 4   Community                98230 non-null  object        \n",
      " 5   Date Reported            98230 non-null  datetime64[ns]\n",
      " 6   Estimated Date of Onset  98230 non-null  datetime64[ns]\n",
      " 7   Acquisition              98230 non-null  object        \n",
      " 8   Status                   98230 non-null  object        \n",
      "dtypes: datetime64[ns](2), int64(1), object(6)\n",
      "memory usage: 6.8+ MB\n"
     ]
    }
   ],
   "source": [
    "df.info()"
   ]
  },
  {
   "cell_type": "code",
   "execution_count": 8,
   "id": "feae0c60",
   "metadata": {},
   "outputs": [],
   "source": [
    "df.to_sql('gov',engine_datahub,if_exists='replace',index=False)"
   ]
  },
  {
   "cell_type": "markdown",
   "id": "e9c0873c",
   "metadata": {},
   "source": [
    "# 5. Append new data to historical data\n"
   ]
  },
  {
   "cell_type": "code",
   "execution_count": 9,
   "id": "358214c6",
   "metadata": {},
   "outputs": [
    {
     "data": {
      "text/plain": [
       "(81, 9)"
      ]
     },
     "execution_count": 9,
     "metadata": {},
     "output_type": "execute_result"
    }
   ],
   "source": [
    "'''get new data'''\n",
    "df_new = pd.read_csv(file_path + 'new_data.csv')\n",
    "df_new.shape"
   ]
  },
  {
   "cell_type": "code",
   "execution_count": 10,
   "id": "7131e435",
   "metadata": {},
   "outputs": [
    {
     "name": "stdout",
     "output_type": "stream",
     "text": [
      "<class 'pandas.core.frame.DataFrame'>\n",
      "RangeIndex: 81 entries, 0 to 80\n",
      "Data columns (total 9 columns):\n",
      " #   Column                   Non-Null Count  Dtype \n",
      "---  ------                   --------------  ----- \n",
      " 0   Case Count               81 non-null     int64 \n",
      " 1   Gender                   81 non-null     object\n",
      " 2   Age Decade               81 non-null     object\n",
      " 3   Municipality             81 non-null     object\n",
      " 4   Community                81 non-null     object\n",
      " 5   Date Reported            81 non-null     object\n",
      " 6   Estimated Date of Onset  81 non-null     object\n",
      " 7   Acquisition              81 non-null     object\n",
      " 8   Status                   81 non-null     object\n",
      "dtypes: int64(1), object(8)\n",
      "memory usage: 5.8+ KB\n"
     ]
    }
   ],
   "source": [
    "df_new.info()"
   ]
  },
  {
   "cell_type": "code",
   "execution_count": 11,
   "id": "63643869",
   "metadata": {},
   "outputs": [],
   "source": [
    "'''Change datatype'''\n",
    "df_new['Date Reported']=pd.to_datetime(df_new['Date Reported'].str.strip(), format='%m/%d/%Y')\n",
    "df_new['Estimated Date of Onset'] = pd.to_datetime(df_new['Estimated Date of Onset'].str.strip(),format='%m/%d/%Y')"
   ]
  },
  {
   "cell_type": "code",
   "execution_count": 12,
   "id": "d293aff9",
   "metadata": {},
   "outputs": [
    {
     "name": "stdout",
     "output_type": "stream",
     "text": [
      "<class 'pandas.core.frame.DataFrame'>\n",
      "RangeIndex: 81 entries, 0 to 80\n",
      "Data columns (total 9 columns):\n",
      " #   Column                   Non-Null Count  Dtype         \n",
      "---  ------                   --------------  -----         \n",
      " 0   Case Count               81 non-null     int64         \n",
      " 1   Gender                   81 non-null     object        \n",
      " 2   Age Decade               81 non-null     object        \n",
      " 3   Municipality             81 non-null     object        \n",
      " 4   Community                81 non-null     object        \n",
      " 5   Date Reported            81 non-null     datetime64[ns]\n",
      " 6   Estimated Date of Onset  81 non-null     datetime64[ns]\n",
      " 7   Acquisition              81 non-null     object        \n",
      " 8   Status                   81 non-null     object        \n",
      "dtypes: datetime64[ns](2), int64(1), object(6)\n",
      "memory usage: 5.8+ KB\n"
     ]
    }
   ],
   "source": [
    "df_new.info()"
   ]
  },
  {
   "cell_type": "code",
   "execution_count": 13,
   "id": "50ac3ab9",
   "metadata": {},
   "outputs": [
    {
     "name": "stdout",
     "output_type": "stream",
     "text": [
      "<class 'pandas.core.frame.DataFrame'>\n",
      "RangeIndex: 98311 entries, 0 to 98310\n",
      "Data columns (total 9 columns):\n",
      " #   Column                   Non-Null Count  Dtype         \n",
      "---  ------                   --------------  -----         \n",
      " 0   Case Count               98311 non-null  int64         \n",
      " 1   Gender                   98230 non-null  object        \n",
      " 2   Age Decade               98229 non-null  object        \n",
      " 3   Municipality             98230 non-null  object        \n",
      " 4   Community                98230 non-null  object        \n",
      " 5   Date Reported            98230 non-null  datetime64[ns]\n",
      " 6   Estimated Date of Onset  98230 non-null  datetime64[ns]\n",
      " 7   Acquisition              98230 non-null  object        \n",
      " 8   Status                   98230 non-null  object        \n",
      "dtypes: datetime64[ns](2), int64(1), object(6)\n",
      "memory usage: 6.8+ MB\n"
     ]
    }
   ],
   "source": [
    "'''get historical data from source database'''\n",
    "df_gov = pd.read_sql('gov',engine_datahub)\n",
    "df_gov.info()"
   ]
  },
  {
   "cell_type": "code",
   "execution_count": 14,
   "id": "6f745ecf",
   "metadata": {},
   "outputs": [
    {
     "data": {
      "text/plain": [
       "(98392, 9)"
      ]
     },
     "execution_count": 14,
     "metadata": {},
     "output_type": "execute_result"
    }
   ],
   "source": [
    "'''append new data to historical data'''\n",
    "df_all = pd.concat([df_gov,df_new])\n",
    "df_all.shape"
   ]
  },
  {
   "cell_type": "code",
   "execution_count": 15,
   "id": "9f53cdd0",
   "metadata": {},
   "outputs": [
    {
     "name": "stdout",
     "output_type": "stream",
     "text": [
      "<class 'pandas.core.frame.DataFrame'>\n",
      "Int64Index: 98392 entries, 0 to 80\n",
      "Data columns (total 9 columns):\n",
      " #   Column                   Non-Null Count  Dtype         \n",
      "---  ------                   --------------  -----         \n",
      " 0   Case Count               98392 non-null  int64         \n",
      " 1   Gender                   98311 non-null  object        \n",
      " 2   Age Decade               98310 non-null  object        \n",
      " 3   Municipality             98311 non-null  object        \n",
      " 4   Community                98311 non-null  object        \n",
      " 5   Date Reported            98311 non-null  datetime64[ns]\n",
      " 6   Estimated Date of Onset  98311 non-null  datetime64[ns]\n",
      " 7   Acquisition              98311 non-null  object        \n",
      " 8   Status                   98311 non-null  object        \n",
      "dtypes: datetime64[ns](2), int64(1), object(6)\n",
      "memory usage: 7.5+ MB\n"
     ]
    }
   ],
   "source": [
    "df_all.info()"
   ]
  },
  {
   "cell_type": "code",
   "execution_count": 16,
   "id": "50cd3a64",
   "metadata": {},
   "outputs": [
    {
     "data": {
      "text/plain": [
       "(98312, 9)"
      ]
     },
     "execution_count": 16,
     "metadata": {},
     "output_type": "execute_result"
    }
   ],
   "source": [
    "'''drop duplicate'''\n",
    "df_all.drop_duplicates(keep='first', inplace=True)\n",
    "df_all.shape"
   ]
  },
  {
   "cell_type": "code",
   "execution_count": 17,
   "id": "6a6d1166",
   "metadata": {},
   "outputs": [
    {
     "name": "stdout",
     "output_type": "stream",
     "text": [
      "<class 'pandas.core.frame.DataFrame'>\n",
      "Int64Index: 98312 entries, 0 to 80\n",
      "Data columns (total 9 columns):\n",
      " #   Column                   Non-Null Count  Dtype         \n",
      "---  ------                   --------------  -----         \n",
      " 0   Case Count               98312 non-null  int64         \n",
      " 1   Gender                   98311 non-null  object        \n",
      " 2   Age Decade               98310 non-null  object        \n",
      " 3   Municipality             98311 non-null  object        \n",
      " 4   Community                98311 non-null  object        \n",
      " 5   Date Reported            98311 non-null  datetime64[ns]\n",
      " 6   Estimated Date of Onset  98311 non-null  datetime64[ns]\n",
      " 7   Acquisition              98311 non-null  object        \n",
      " 8   Status                   98311 non-null  object        \n",
      "dtypes: datetime64[ns](2), int64(1), object(6)\n",
      "memory usage: 7.5+ MB\n"
     ]
    }
   ],
   "source": [
    "df_all.info()"
   ]
  },
  {
   "cell_type": "markdown",
   "id": "56f27e55",
   "metadata": {},
   "source": [
    "# 6. Check Missing Value"
   ]
  },
  {
   "cell_type": "code",
   "execution_count": 21,
   "id": "045829f5",
   "metadata": {},
   "outputs": [
    {
     "data": {
      "text/html": [
       "<div>\n",
       "<style scoped>\n",
       "    .dataframe tbody tr th:only-of-type {\n",
       "        vertical-align: middle;\n",
       "    }\n",
       "\n",
       "    .dataframe tbody tr th {\n",
       "        vertical-align: top;\n",
       "    }\n",
       "\n",
       "    .dataframe thead th {\n",
       "        text-align: right;\n",
       "    }\n",
       "</style>\n",
       "<table border=\"1\" class=\"dataframe\">\n",
       "  <thead>\n",
       "    <tr style=\"text-align: right;\">\n",
       "      <th></th>\n",
       "      <th>Case Count</th>\n",
       "      <th>Gender</th>\n",
       "      <th>Age Decade</th>\n",
       "      <th>Municipality</th>\n",
       "      <th>Community</th>\n",
       "      <th>Date Reported</th>\n",
       "      <th>Estimated Date of Onset</th>\n",
       "      <th>Acquisition</th>\n",
       "      <th>Status</th>\n",
       "    </tr>\n",
       "  </thead>\n",
       "  <tbody>\n",
       "    <tr>\n",
       "      <th>80138</th>\n",
       "      <td>59198</td>\n",
       "      <td>Male</td>\n",
       "      <td>None</td>\n",
       "      <td>Markham</td>\n",
       "      <td>Pending Neighbourhood</td>\n",
       "      <td>2022-01-07</td>\n",
       "      <td>2022-01-05</td>\n",
       "      <td>Under Investigation</td>\n",
       "      <td>Resolved</td>\n",
       "    </tr>\n",
       "    <tr>\n",
       "      <th>98230</th>\n",
       "      <td>0</td>\n",
       "      <td>None</td>\n",
       "      <td>None</td>\n",
       "      <td>None</td>\n",
       "      <td>None</td>\n",
       "      <td>NaT</td>\n",
       "      <td>NaT</td>\n",
       "      <td>None</td>\n",
       "      <td>None</td>\n",
       "    </tr>\n",
       "  </tbody>\n",
       "</table>\n",
       "</div>"
      ],
      "text/plain": [
       "       Case Count Gender Age Decade Municipality              Community  \\\n",
       "80138       59198   Male       None      Markham  Pending Neighbourhood   \n",
       "98230           0   None       None         None                   None   \n",
       "\n",
       "      Date Reported Estimated Date of Onset          Acquisition    Status  \n",
       "80138    2022-01-07              2022-01-05  Under Investigation  Resolved  \n",
       "98230           NaT                     NaT                 None      None  "
      ]
     },
     "execution_count": 21,
     "metadata": {},
     "output_type": "execute_result"
    }
   ],
   "source": [
    "df_all[df_all.isnull().any(axis=1)]"
   ]
  },
  {
   "cell_type": "code",
   "execution_count": null,
   "id": "d104c094",
   "metadata": {},
   "outputs": [],
   "source": [
    "df_all = df_all.drop(98230)"
   ]
  },
  {
   "cell_type": "code",
   "execution_count": 35,
   "id": "10d00df0",
   "metadata": {},
   "outputs": [
    {
     "data": {
      "text/html": [
       "<div>\n",
       "<style scoped>\n",
       "    .dataframe tbody tr th:only-of-type {\n",
       "        vertical-align: middle;\n",
       "    }\n",
       "\n",
       "    .dataframe tbody tr th {\n",
       "        vertical-align: top;\n",
       "    }\n",
       "\n",
       "    .dataframe thead th {\n",
       "        text-align: right;\n",
       "    }\n",
       "</style>\n",
       "<table border=\"1\" class=\"dataframe\">\n",
       "  <thead>\n",
       "    <tr style=\"text-align: right;\">\n",
       "      <th></th>\n",
       "      <th>Case Count</th>\n",
       "      <th>Gender</th>\n",
       "      <th>Age Decade</th>\n",
       "      <th>Municipality</th>\n",
       "      <th>Community</th>\n",
       "      <th>Date Reported</th>\n",
       "      <th>Estimated Date of Onset</th>\n",
       "      <th>Acquisition</th>\n",
       "      <th>Status</th>\n",
       "    </tr>\n",
       "  </thead>\n",
       "  <tbody>\n",
       "    <tr>\n",
       "      <th>80138</th>\n",
       "      <td>59198</td>\n",
       "      <td>Male</td>\n",
       "      <td>None</td>\n",
       "      <td>Markham</td>\n",
       "      <td>Pending Neighbourhood</td>\n",
       "      <td>2022-01-07</td>\n",
       "      <td>2022-01-05</td>\n",
       "      <td>Under Investigation</td>\n",
       "      <td>Resolved</td>\n",
       "    </tr>\n",
       "  </tbody>\n",
       "</table>\n",
       "</div>"
      ],
      "text/plain": [
       "       Case Count Gender Age Decade Municipality              Community  \\\n",
       "80138       59198   Male       None      Markham  Pending Neighbourhood   \n",
       "\n",
       "      Date Reported Estimated Date of Onset          Acquisition    Status  \n",
       "80138    2022-01-07              2022-01-05  Under Investigation  Resolved  "
      ]
     },
     "execution_count": 35,
     "metadata": {},
     "output_type": "execute_result"
    }
   ],
   "source": [
    "df_all[df_all.isnull().any(axis=1)]"
   ]
  },
  {
   "cell_type": "code",
   "execution_count": 36,
   "id": "e019f2fd",
   "metadata": {},
   "outputs": [
    {
     "data": {
      "text/plain": [
       "(98311, 9)"
      ]
     },
     "execution_count": 36,
     "metadata": {},
     "output_type": "execute_result"
    }
   ],
   "source": [
    "df_all.shape"
   ]
  },
  {
   "cell_type": "markdown",
   "id": "c2cdb59a",
   "metadata": {},
   "source": [
    "# 7. Export updated data to database"
   ]
  },
  {
   "cell_type": "code",
   "execution_count": 37,
   "id": "79bcc47e",
   "metadata": {},
   "outputs": [],
   "source": [
    "df_all.to_sql('gov',engine_datahub,if_exists='replace',index=False)"
   ]
  },
  {
   "cell_type": "code",
   "execution_count": 38,
   "id": "38bf1928",
   "metadata": {},
   "outputs": [
    {
     "data": {
      "text/html": [
       "<div>\n",
       "<style scoped>\n",
       "    .dataframe tbody tr th:only-of-type {\n",
       "        vertical-align: middle;\n",
       "    }\n",
       "\n",
       "    .dataframe tbody tr th {\n",
       "        vertical-align: top;\n",
       "    }\n",
       "\n",
       "    .dataframe thead th {\n",
       "        text-align: right;\n",
       "    }\n",
       "</style>\n",
       "<table border=\"1\" class=\"dataframe\">\n",
       "  <thead>\n",
       "    <tr style=\"text-align: right;\">\n",
       "      <th></th>\n",
       "      <th>Case Count</th>\n",
       "      <th>Gender</th>\n",
       "      <th>Age Decade</th>\n",
       "      <th>Municipality</th>\n",
       "      <th>Community</th>\n",
       "      <th>Date Reported</th>\n",
       "      <th>Estimated Date of Onset</th>\n",
       "      <th>Acquisition</th>\n",
       "      <th>Status</th>\n",
       "    </tr>\n",
       "  </thead>\n",
       "  <tbody>\n",
       "    <tr>\n",
       "      <th>0</th>\n",
       "      <td>75762</td>\n",
       "      <td>Female</td>\n",
       "      <td>30s</td>\n",
       "      <td>Richmond Hill</td>\n",
       "      <td>Pending Neighbourhood</td>\n",
       "      <td>2020-02-29</td>\n",
       "      <td>2020-02-25</td>\n",
       "      <td>Workplace Outbreak</td>\n",
       "      <td>Resolved</td>\n",
       "    </tr>\n",
       "    <tr>\n",
       "      <th>1</th>\n",
       "      <td>75768</td>\n",
       "      <td>Female</td>\n",
       "      <td>60s</td>\n",
       "      <td>Richmond Hill</td>\n",
       "      <td>Pending Neighbourhood</td>\n",
       "      <td>2020-03-02</td>\n",
       "      <td>2020-02-23</td>\n",
       "      <td>Workplace Outbreak</td>\n",
       "      <td>Resolved</td>\n",
       "    </tr>\n",
       "    <tr>\n",
       "      <th>2</th>\n",
       "      <td>75767</td>\n",
       "      <td>Female</td>\n",
       "      <td>70s</td>\n",
       "      <td>Richmond Hill</td>\n",
       "      <td>Pending Neighbourhood</td>\n",
       "      <td>2020-03-03</td>\n",
       "      <td>2020-02-22</td>\n",
       "      <td>Workplace Outbreak</td>\n",
       "      <td>Resolved</td>\n",
       "    </tr>\n",
       "    <tr>\n",
       "      <th>3</th>\n",
       "      <td>75765</td>\n",
       "      <td>Male</td>\n",
       "      <td>50s</td>\n",
       "      <td>Vaughan</td>\n",
       "      <td>Maple</td>\n",
       "      <td>2020-03-04</td>\n",
       "      <td>2020-02-27</td>\n",
       "      <td>Workplace Outbreak</td>\n",
       "      <td>Resolved</td>\n",
       "    </tr>\n",
       "    <tr>\n",
       "      <th>4</th>\n",
       "      <td>75766</td>\n",
       "      <td>Male</td>\n",
       "      <td>40s</td>\n",
       "      <td>Richmond Hill</td>\n",
       "      <td>Pending Neighbourhood</td>\n",
       "      <td>2020-03-04</td>\n",
       "      <td>2020-02-28</td>\n",
       "      <td>Workplace Outbreak</td>\n",
       "      <td>Resolved</td>\n",
       "    </tr>\n",
       "    <tr>\n",
       "      <th>...</th>\n",
       "      <td>...</td>\n",
       "      <td>...</td>\n",
       "      <td>...</td>\n",
       "      <td>...</td>\n",
       "      <td>...</td>\n",
       "      <td>...</td>\n",
       "      <td>...</td>\n",
       "      <td>...</td>\n",
       "      <td>...</td>\n",
       "    </tr>\n",
       "    <tr>\n",
       "      <th>98306</th>\n",
       "      <td>38856</td>\n",
       "      <td>Male</td>\n",
       "      <td>Under 20</td>\n",
       "      <td>King</td>\n",
       "      <td>Pending Neighbourhood</td>\n",
       "      <td>2022-03-03</td>\n",
       "      <td>2022-03-03</td>\n",
       "      <td>Under Investigation</td>\n",
       "      <td>Self-Isolating</td>\n",
       "    </tr>\n",
       "    <tr>\n",
       "      <th>98307</th>\n",
       "      <td>38860</td>\n",
       "      <td>Male</td>\n",
       "      <td>60s</td>\n",
       "      <td>Vaughan</td>\n",
       "      <td>Maple</td>\n",
       "      <td>2022-03-03</td>\n",
       "      <td>2022-03-03</td>\n",
       "      <td>Under Investigation</td>\n",
       "      <td>Self-Isolating</td>\n",
       "    </tr>\n",
       "    <tr>\n",
       "      <th>98308</th>\n",
       "      <td>38871</td>\n",
       "      <td>Male</td>\n",
       "      <td>20s</td>\n",
       "      <td>Richmond Hill</td>\n",
       "      <td>Pending Neighbourhood</td>\n",
       "      <td>2022-03-03</td>\n",
       "      <td>2022-03-03</td>\n",
       "      <td>Under Investigation</td>\n",
       "      <td>Self-Isolating</td>\n",
       "    </tr>\n",
       "    <tr>\n",
       "      <th>98309</th>\n",
       "      <td>38872</td>\n",
       "      <td>Male</td>\n",
       "      <td>80s</td>\n",
       "      <td>Markham</td>\n",
       "      <td>Pending Neighbourhood</td>\n",
       "      <td>2022-03-03</td>\n",
       "      <td>2022-03-03</td>\n",
       "      <td>Under Investigation</td>\n",
       "      <td>Self-Isolating</td>\n",
       "    </tr>\n",
       "    <tr>\n",
       "      <th>98310</th>\n",
       "      <td>38873</td>\n",
       "      <td>Female</td>\n",
       "      <td>20s</td>\n",
       "      <td>Vaughan</td>\n",
       "      <td>Woodbridge</td>\n",
       "      <td>2022-03-03</td>\n",
       "      <td>2022-03-02</td>\n",
       "      <td>Under Investigation</td>\n",
       "      <td>Self-Isolating</td>\n",
       "    </tr>\n",
       "  </tbody>\n",
       "</table>\n",
       "<p>98311 rows × 9 columns</p>\n",
       "</div>"
      ],
      "text/plain": [
       "       Case Count  Gender Age Decade   Municipality              Community  \\\n",
       "0           75762  Female        30s  Richmond Hill  Pending Neighbourhood   \n",
       "1           75768  Female        60s  Richmond Hill  Pending Neighbourhood   \n",
       "2           75767  Female        70s  Richmond Hill  Pending Neighbourhood   \n",
       "3           75765    Male        50s        Vaughan                  Maple   \n",
       "4           75766    Male        40s  Richmond Hill  Pending Neighbourhood   \n",
       "...           ...     ...        ...            ...                    ...   \n",
       "98306       38856    Male   Under 20           King  Pending Neighbourhood   \n",
       "98307       38860    Male        60s        Vaughan                  Maple   \n",
       "98308       38871    Male        20s  Richmond Hill  Pending Neighbourhood   \n",
       "98309       38872    Male        80s        Markham  Pending Neighbourhood   \n",
       "98310       38873  Female        20s        Vaughan             Woodbridge   \n",
       "\n",
       "      Date Reported Estimated Date of Onset          Acquisition  \\\n",
       "0        2020-02-29              2020-02-25   Workplace Outbreak   \n",
       "1        2020-03-02              2020-02-23   Workplace Outbreak   \n",
       "2        2020-03-03              2020-02-22   Workplace Outbreak   \n",
       "3        2020-03-04              2020-02-27   Workplace Outbreak   \n",
       "4        2020-03-04              2020-02-28   Workplace Outbreak   \n",
       "...             ...                     ...                  ...   \n",
       "98306    2022-03-03              2022-03-03  Under Investigation   \n",
       "98307    2022-03-03              2022-03-03  Under Investigation   \n",
       "98308    2022-03-03              2022-03-03  Under Investigation   \n",
       "98309    2022-03-03              2022-03-03  Under Investigation   \n",
       "98310    2022-03-03              2022-03-02  Under Investigation   \n",
       "\n",
       "               Status  \n",
       "0            Resolved  \n",
       "1            Resolved  \n",
       "2            Resolved  \n",
       "3            Resolved  \n",
       "4            Resolved  \n",
       "...               ...  \n",
       "98306  Self-Isolating  \n",
       "98307  Self-Isolating  \n",
       "98308  Self-Isolating  \n",
       "98309  Self-Isolating  \n",
       "98310  Self-Isolating  \n",
       "\n",
       "[98311 rows x 9 columns]"
      ]
     },
     "execution_count": 38,
     "metadata": {},
     "output_type": "execute_result"
    }
   ],
   "source": [
    "pd.read_sql('gov',engine_datahub)"
   ]
  },
  {
   "cell_type": "markdown",
   "id": "25fe2de5",
   "metadata": {},
   "source": [
    "# 7. Publish data to tableau server"
   ]
  },
  {
   "cell_type": "code",
   "execution_count": null,
   "id": "f10dd22d",
   "metadata": {},
   "outputs": [],
   "source": [
    "# %pip install pantab\n",
    "# %pip install numpy --upgrade\n",
    "# %pip install tableau_api_lib\n",
    "# %pip install tableauserverclient"
   ]
  },
  {
   "cell_type": "code",
   "execution_count": 39,
   "id": "9350920b",
   "metadata": {},
   "outputs": [],
   "source": [
    "import pandas as pd\n",
    "import numpy as np\n",
    "# import hvac\n",
    "import sqlalchemy\n",
    "import urllib\n",
    "import urllib3\n",
    "urllib3.disable_warnings(urllib3.exceptions.InsecureRequestWarning)\n",
    "\n",
    "from datetime import datetime\n",
    "\n",
    "#Used for database\n",
    "import pyodbc\n",
    "\n",
    "#Used for publishTableau\n",
    "import pantab\n",
    "from tableauhyperapi import HyperProcess, Connection, TableDefinition, SqlType, Telemetry, Inserter, CreateMode, TableName\n",
    "from tableauhyperapi import escape_string_literal\n",
    "from tableau_api_lib import TableauServerConnection\n",
    "from tableau_api_lib.utils.querying import get_projects_dataframe\n",
    "import tableauserverclient as TSC\n",
    "import os\n",
    "file_path=r'D:/project_gov_medical/'\n",
    "from pathlib import Path"
   ]
  },
  {
   "cell_type": "code",
   "execution_count": 40,
   "id": "f059964e",
   "metadata": {},
   "outputs": [
    {
     "name": "stdout",
     "output_type": "stream",
     "text": [
      "2022-12-08 10:19:26.486351: Script starting.\n",
      "       Case Count  Gender Age Decade   Municipality              Community  \\\n",
      "0           75762  Female        30s  Richmond Hill  Pending Neighbourhood   \n",
      "1           75768  Female        60s  Richmond Hill  Pending Neighbourhood   \n",
      "2           75767  Female        70s  Richmond Hill  Pending Neighbourhood   \n",
      "3           75765    Male        50s        Vaughan                  Maple   \n",
      "4           75766    Male        40s  Richmond Hill  Pending Neighbourhood   \n",
      "...           ...     ...        ...            ...                    ...   \n",
      "98306       38856    Male   Under 20           King  Pending Neighbourhood   \n",
      "98307       38860    Male        60s        Vaughan                  Maple   \n",
      "98308       38871    Male        20s  Richmond Hill  Pending Neighbourhood   \n",
      "98309       38872    Male        80s        Markham  Pending Neighbourhood   \n",
      "98310       38873  Female        20s        Vaughan             Woodbridge   \n",
      "\n",
      "      Date Reported Estimated Date of Onset          Acquisition  \\\n",
      "0        2020-02-29              2020-02-25   Workplace Outbreak   \n",
      "1        2020-03-02              2020-02-23   Workplace Outbreak   \n",
      "2        2020-03-03              2020-02-22   Workplace Outbreak   \n",
      "3        2020-03-04              2020-02-27   Workplace Outbreak   \n",
      "4        2020-03-04              2020-02-28   Workplace Outbreak   \n",
      "...             ...                     ...                  ...   \n",
      "98306    2022-03-03              2022-03-03  Under Investigation   \n",
      "98307    2022-03-03              2022-03-03  Under Investigation   \n",
      "98308    2022-03-03              2022-03-03  Under Investigation   \n",
      "98309    2022-03-03              2022-03-03  Under Investigation   \n",
      "98310    2022-03-03              2022-03-02  Under Investigation   \n",
      "\n",
      "               Status  \n",
      "0            Resolved  \n",
      "1            Resolved  \n",
      "2            Resolved  \n",
      "3            Resolved  \n",
      "4            Resolved  \n",
      "...               ...  \n",
      "98306  Self-Isolating  \n",
      "98307  Self-Isolating  \n",
      "98308  Self-Isolating  \n",
      "98309  Self-Isolating  \n",
      "98310  Self-Isolating  \n",
      "\n",
      "[98311 rows x 9 columns]\n",
      "==================\n",
      "2022-12-08 10:19:29.587411: Publishing gov to default...\n",
      "2022-12-08 10:19:32.077665: Datasource published. Datasource ID: 3f883a09-311a-4af2-b92d-08e7372c9c76\n",
      "2022-12-08 10:19:32.140718: Removed file C:\\Users\\huzhipeng\\Downloads\\project_gov_medical\\project_gov_medical\\gov.hyper from local\n",
      "2022-12-08 10:19:32.241355: Done!\n"
     ]
    }
   ],
   "source": [
    "#Script configuration. Generate a UUID and enter it below.\n",
    "taskID = '001'\n",
    "taskName = 'PublishTableau - Test'\n",
    "logID = '' #Default, use for DEV\n",
    "#logID = '' #Use this one for PRODUCTION\n",
    "startTime = datetime.now()\n",
    "\n",
    "server='https://prod-ca-a.online.tableau.com/'\n",
    "username='mytoken'\n",
    "token='4JJ+jISDTVqPbsOOM8ppyw==:AoptK4VG3DUJJs1UIvlNRQN1QHe4Te1F'\n",
    "siteName='carolsspace'\n",
    "projectName='default'\n",
    "scr_table='gov'\n",
    "dest_table='gov'\n",
    "\n",
    "\n",
    "#===================================================================\n",
    "#Standard log writer\n",
    "#Logging function\n",
    "def writeLog(taskStatus, taskMessage, endTime = None):\n",
    "    log_engine = connectSQLServer1()\n",
    "    if endTime == None:\n",
    "        endTime = datetime.now()\n",
    "    logColumns = ['TaskID', 'TaskName','Status','Message','StartTime','EndTime']\n",
    "    df = pd.DataFrame([[taskID, taskName, taskStatus, taskMessage, startTime, endTime]], columns=logColumns)\n",
    "    df.to_sql('Python_Logging', log_engine, if_exists='append', index=False)\n",
    "\n",
    "#===================================================================    \n",
    "#Connection Functions\n",
    "#SQL Server Connection\n",
    "\n",
    "def connectSQLServer1():\n",
    "    SQLConn = \"DRIVER={SQL Server Native Client 11.0};\"\"SERVER=localhost\\SQLEXPRESS;\"\"DATABASE=projectdatahub;\"\"UID=sa;\"\"PWD=user1\"\n",
    "    SQLparams = urllib.parse.quote_plus(SQLConn)\n",
    "    SQLEngine = sqlalchemy.create_engine(\"mssql+pyodbc:///?odbc_connect=%s\" % SQLparams)\n",
    "    return SQLEngine\n",
    "\n",
    "\n",
    "#Tableau Connection - Requires pantab, tableauhyperapi, tableau_api_lib, tableauserverclient\n",
    "def publishTableau(server,token,siteName, projectName, dest_table, df):\n",
    "    #Save DataFrame output to .hyper file locally\n",
    "    fileName = str(Path( \"__file__\" ).parent.absolute())+ '\\\\' + dest_table + '.hyper'\n",
    "    pantab.frame_to_hyper(df, fileName, table = dest_table)\n",
    "    \n",
    "    #Connect to our Tableau Instance\n",
    "    tableau_auth = TSC.PersonalAccessTokenAuth(username, token, siteName)\n",
    "    server = TSC.Server(server)\n",
    "    server.add_http_options({'verify': False})\n",
    "    server.use_server_version()\n",
    "\n",
    "    with server.auth.sign_in(tableau_auth):\n",
    "        #Define publish mode - Overwrite, Append, or CreateNew\n",
    "        publishMode = TSC.Server.PublishMode.Overwrite\n",
    "        \n",
    "        #Get project_id from project_name\n",
    "        all_projects, pagination_item = server.projects.get()\n",
    "        for project in TSC.Pager(server.projects):\n",
    "            if project.name == projectName:\n",
    "                project_id = project.id\n",
    "    \n",
    "        #Create the datasource object with the project_id\n",
    "        datasource = TSC.DatasourceItem(project_id)\n",
    "        \n",
    "        #Publish datasource\n",
    "        print(f'{datetime.now()}: Publishing {dest_table} to {projectName}...')\n",
    "        datasource = server.datasources.publish(datasource, fileName, publishMode)\n",
    "        print(f'{datetime.now()}: Datasource published. Datasource ID: {format(datasource.id)}')\n",
    "    \n",
    "    if os.path.exists(fileName):\n",
    "        os.remove(fileName)\n",
    "        print(f'{datetime.now()}: Removed file {fileName} from local')\n",
    "\n",
    "#===============================================================\n",
    "try:\n",
    "    print(f'{startTime}: Script starting.')\n",
    "\n",
    "    #Example Teradata Connection\n",
    "    engine = connectSQLServer1()\n",
    "    queryText2 =f\"\"\"\n",
    "        SELECT * from {scr_table}   \n",
    "    \"\"\"\n",
    "    outputdata = pd.read_sql(queryText2, engine)\n",
    "    print(outputdata)\n",
    "\n",
    "    #Example Publish dataframe to Tableau\n",
    "    publishTableau(server,token,siteName, projectName, dest_table, outputdata)\n",
    "    \n",
    "    #Example Teradata Connection\n",
    "#     engine = connectSQLServer1()\n",
    "#     queryText2 =f\"\"\"\n",
    "#         SELECT * from PPC   \n",
    "#     \"\"\"\n",
    "#     outputdata = pd.read_sql(queryText2, engine)\n",
    "#     print(outputdata)\n",
    "\n",
    "#     #Example Publish dataframe to Tableau\n",
    "#     publishTableau(siteName, projectName, tablename, outputdata)\n",
    "\n",
    "    #Write a \"pass\" status to the log (uncomment writeLog after GUID is entered):\n",
    "    taskMessage = 'Logging Template Pass'\n",
    "    writeLog(True, taskMessage) \n",
    "    print(f'{datetime.now()}: Done!')\n",
    "\n",
    "except Exception as e:\n",
    "    #Write a \"fail\" status to the log (uncomment writeLog after GUID is entered):\n",
    "    taskMessage = str(e)\n",
    "    print(taskMessage)\n",
    "    #writeLog(False, taskMessage) \n",
    "#==================================================================="
   ]
  },
  {
   "cell_type": "code",
   "execution_count": null,
   "id": "65a04c4b",
   "metadata": {},
   "outputs": [],
   "source": []
  }
 ],
 "metadata": {
  "kernelspec": {
   "display_name": "Python 3 (ipykernel)",
   "language": "python",
   "name": "python3"
  },
  "language_info": {
   "codemirror_mode": {
    "name": "ipython",
    "version": 3
   },
   "file_extension": ".py",
   "mimetype": "text/x-python",
   "name": "python",
   "nbconvert_exporter": "python",
   "pygments_lexer": "ipython3",
   "version": "3.9.7"
  }
 },
 "nbformat": 4,
 "nbformat_minor": 5
}
